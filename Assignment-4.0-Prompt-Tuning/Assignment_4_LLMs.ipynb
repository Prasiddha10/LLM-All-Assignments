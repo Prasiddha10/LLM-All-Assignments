{
  "nbformat": 4,
  "nbformat_minor": 0,
  "metadata": {
    "colab": {
      "provenance": []
    },
    "kernelspec": {
      "name": "python3",
      "display_name": "Python 3"
    },
    "language_info": {
      "name": "python"
    }
  },
  "cells": [
    {
      "cell_type": "code",
      "execution_count": null,
      "metadata": {
        "id": "3MLy8LbkwHNF"
      },
      "outputs": [],
      "source": [
        "import google.generativeai as genai\n",
        "import os\n",
        "\n",
        "api_key = \"YOUR API KEY HERE\"\n",
        "# Load your Gemini API key\n",
        "genai.configure(api_key=api_key)\n",
        "\n",
        "# Create a model instance\n",
        "model = genai.GenerativeModel(\"gemini-1.5-flash\")\n",
        "\n",
        "def get_gemini_response(prompt):\n",
        "    response = model.generate_content(prompt)\n",
        "    return response.text\n"
      ]
    },
    {
      "cell_type": "markdown",
      "source": [
        "✅ Assignment 4.1: Prompt Design and Comparison\n",
        "\n",
        "💡 Task: Summarize a paragraph\n",
        "\n",
        "1. Direct Prompt\n"
      ],
      "metadata": {
        "id": "S38PSYJtwVzm"
      }
    },
    {
      "cell_type": "code",
      "source": [
        "direct_prompt = \"\"\"Summarize this:\n",
        "\n",
        "The Earth's atmosphere is a layer of gases surrounding the planet. It is held in place by gravity and is essential for life, providing oxygen, shielding from harmful solar radiation, and regulating temperature.\"\"\"\n",
        "\n",
        "print(\"Direct Prompt:\\n\", get_gemini_response(direct_prompt))\n"
      ],
      "metadata": {
        "colab": {
          "base_uri": "https://localhost:8080/",
          "height": 69
        },
        "id": "X2nrDAwGwQ1L",
        "outputId": "6cccd5c4-3dab-467e-a0d5-f2dfe2359679"
      },
      "execution_count": null,
      "outputs": [
        {
          "output_type": "stream",
          "name": "stdout",
          "text": [
            "Direct Prompt:\n",
            " Earth's atmosphere, a gravity-held layer of gases, is vital for life, supplying oxygen, protecting against solar radiation, and controlling temperature.\n",
            "\n"
          ]
        }
      ]
    },
    {
      "cell_type": "markdown",
      "source": [
        "2. Few-shot Prompt"
      ],
      "metadata": {
        "id": "og7NfQMewhg4"
      }
    },
    {
      "cell_type": "code",
      "source": [
        "few_shot_prompt = \"\"\"Summarize the following text.\n",
        "\n",
        "Example:\n",
        "Text: \"Photosynthesis is the process by which green plants use sunlight to make food from carbon dioxide and water.\"\n",
        "Summary: \"Photosynthesis lets plants make food using sunlight.\"\n",
        "\n",
        "Text: \"The Earth's atmosphere is a layer of gases surrounding the planet. It is held in place by gravity and is essential for life, providing oxygen, shielding from harmful solar radiation, and regulating temperature.\"\n",
        "Summary:\"\"\"\n",
        "\n",
        "print(\"Few-Shot Prompt:\\n\", get_gemini_response(few_shot_prompt))\n"
      ],
      "metadata": {
        "colab": {
          "base_uri": "https://localhost:8080/",
          "height": 69
        },
        "id": "4x15wCV_waUT",
        "outputId": "9f3a5505-fbfb-429d-e983-49b5954d0832"
      },
      "execution_count": null,
      "outputs": [
        {
          "output_type": "stream",
          "name": "stdout",
          "text": [
            "Few-Shot Prompt:\n",
            " Summary: Earth's atmosphere, held by gravity, is crucial for life; it supplies oxygen, protects against solar radiation, and controls temperature.\n",
            "\n"
          ]
        }
      ]
    },
    {
      "cell_type": "markdown",
      "source": [
        "3. Chain-of-Thought Prompt"
      ],
      "metadata": {
        "id": "c3LZ3nmDwntw"
      }
    },
    {
      "cell_type": "code",
      "source": [
        "cot_prompt = \"\"\"Let's break this down step by step and summarize it.\n",
        "\n",
        "Step 1: Identify main topic - It's about Earth's atmosphere.\n",
        "Step 2: Note key details - It's made of gases, held by gravity, provides oxygen, protects from radiation, regulates temperature.\n",
        "Step 3: Form summary from key points.\n",
        "\n",
        "Now, here’s the summary:\n",
        "\"The Earth's atmosphere, held by gravity, is a vital gas layer that supports life by providing oxygen, protection from radiation, and temperature regulation.\"\n",
        "\"\"\"\n",
        "\n",
        "print(\"Chain-of-Thought Prompt:\\n\", get_gemini_response(cot_prompt))\n"
      ],
      "metadata": {
        "colab": {
          "base_uri": "https://localhost:8080/",
          "height": 69
        },
        "id": "KHTdU9yDwktd",
        "outputId": "4d70af1c-ec21-45f1-8132-73a96e936f3e"
      },
      "execution_count": null,
      "outputs": [
        {
          "output_type": "stream",
          "name": "stdout",
          "text": [
            "Chain-of-Thought Prompt:\n",
            " Your breakdown and summary are excellent.  It's concise, accurate, and captures the essence of the Earth's atmosphere's importance.\n",
            "\n"
          ]
        }
      ]
    },
    {
      "cell_type": "markdown",
      "source": [
        "✅ Assignment 4.2: Prompt Tuning Experiment (e.g., Sentiment Analysis)\n",
        "\n",
        "💡 Task: Classify sentiment of a review\n",
        "\n",
        "1. Basic Prompt"
      ],
      "metadata": {
        "id": "QzM5h3Jnwxs-"
      }
    },
    {
      "cell_type": "code",
      "source": [
        "basic_prompt = \"\"\"Analyze the sentiment of this review:\n",
        "\"I really enjoyed the movie. The storyline was gripping and the visuals were stunning.\"\n",
        "\"\"\"\n",
        "\n",
        "print(\"Basic Prompt:\\n\", get_gemini_response(basic_prompt))\n"
      ],
      "metadata": {
        "colab": {
          "base_uri": "https://localhost:8080/",
          "height": 89
        },
        "id": "u0g3cTTgwpMU",
        "outputId": "7ae61bfb-8b49-4254-cca6-bf4a867399e2"
      },
      "execution_count": null,
      "outputs": [
        {
          "output_type": "stream",
          "name": "stdout",
          "text": [
            "Basic Prompt:\n",
            " The sentiment of the review is overwhelmingly **positive**.  The reviewer explicitly states enjoyment (\"I really enjoyed the movie\") and uses strong positive adjectives to describe specific aspects (\"gripping,\" \"stunning\").\n",
            "\n"
          ]
        }
      ]
    },
    {
      "cell_type": "markdown",
      "source": [
        "2. Prompt Tuning Method 1: Add explicit labels"
      ],
      "metadata": {
        "id": "Ez6-5yRvw1aI"
      }
    },
    {
      "cell_type": "code",
      "source": [
        "explicit_label_prompt = \"\"\"Classify the sentiment of the review as Positive, Negative, or Neutral.\n",
        "\n",
        "Review: \"I really enjoyed the movie. The storyline was gripping and the visuals were stunning.\"\n",
        "Sentiment:\"\"\"\n",
        "\n",
        "print(\"Tuning Method 1 (Explicit Labels):\\n\", get_gemini_response(explicit_label_prompt))\n"
      ],
      "metadata": {
        "colab": {
          "base_uri": "https://localhost:8080/",
          "height": 69
        },
        "id": "Wxei4RTiw0qY",
        "outputId": "98739713-029d-4385-f16c-9d03ebeb5af9"
      },
      "execution_count": null,
      "outputs": [
        {
          "output_type": "stream",
          "name": "stdout",
          "text": [
            "Tuning Method 1 (Explicit Labels):\n",
            " Sentiment: Positive\n",
            "\n"
          ]
        }
      ]
    },
    {
      "cell_type": "markdown",
      "source": [
        "3. Prompt Tuning Method 2: Few-shot with format"
      ],
      "metadata": {
        "id": "0EnQp_K7w7q6"
      }
    },
    {
      "cell_type": "code",
      "source": [
        "few_shot_sentiment = \"\"\"Classify the sentiment of the following reviews.\n",
        "\n",
        "Example 1:\n",
        "Review: \"The product arrived broken and late.\"\n",
        "Sentiment: Negative\n",
        "\n",
        "Example 2:\n",
        "Review: \"This laptop is incredibly fast and reliable.\"\n",
        "Sentiment: Positive\n",
        "\n",
        "Example 3:\n",
        "Review: \"I really enjoyed the movie. The storyline was gripping and the visuals were stunning.\"\n",
        "Sentiment:\"\"\"\n",
        "\n",
        "print(\"Tuning Method 2 (Few-shot):\\n\", get_gemini_response(few_shot_sentiment))\n"
      ],
      "metadata": {
        "colab": {
          "base_uri": "https://localhost:8080/",
          "height": 69
        },
        "id": "XmaH0Vjmw6Ar",
        "outputId": "52cf9b48-5765-4e8e-f737-6e54e828eb04"
      },
      "execution_count": null,
      "outputs": [
        {
          "output_type": "stream",
          "name": "stdout",
          "text": [
            "Tuning Method 2 (Few-shot):\n",
            " Positive\n",
            "\n"
          ]
        }
      ]
    },
    {
      "cell_type": "markdown",
      "source": [
        "✅ Assignment 4.3: Ethics in LLM Applications"
      ],
      "metadata": {
        "id": "Hg8VrzrqxAXe"
      }
    },
    {
      "cell_type": "code",
      "source": [
        "ethics_essay = \"\"\"Write a short essay describing three ethical issues in Large Language Models (LLMs) and how to address them.\n",
        "\n",
        "1. Bias: LLMs often reflect societal biases from their training data. For example, they might generate stereotypical answers about gender or race. This can be mitigated by curating diverse training data and applying bias mitigation techniques.\n",
        "\n",
        "2. Fairness: LLMs may produce different results for different groups, affecting access to services like hiring or lending. Developers should regularly test model outputs across demographics and ensure equitable treatment.\n",
        "\n",
        "3. Privacy: LLMs trained on large datasets may unintentionally memorize sensitive information. This raises concerns about data leakage. Techniques like differential privacy and careful dataset filtering can help reduce this risk.\n",
        "\n",
        "In conclusion, responsible LLM development requires transparency, fairness evaluations, and privacy safeguards to ensure ethical AI deployment.\n",
        "\"\"\"\n",
        "\n",
        "print(\"Ethics Essay:\\n\", get_gemini_response(ethics_essay))\n"
      ],
      "metadata": {
        "colab": {
          "base_uri": "https://localhost:8080/",
          "height": 263
        },
        "id": "WrRwMaZyw-As",
        "outputId": "d64d7db9-c6d5-43cd-fad5-07e7ac620dbd"
      },
      "execution_count": null,
      "outputs": [
        {
          "output_type": "stream",
          "name": "stdout",
          "text": [
            "Ethics Essay:\n",
            " ## The Ethical Tightrope: Navigating the Challenges of Large Language Models\n",
            "\n",
            "Large Language Models (LLMs) represent a significant leap forward in artificial intelligence, capable of generating human-quality text and performing a wide array of tasks.  However, their rapid advancement has outpaced the development of robust ethical frameworks, leaving us grappling with significant challenges.  Three critical ethical issues—bias, fairness, and privacy—demand immediate attention and proactive solutions.\n",
            "\n",
            "One of the most pressing concerns is the pervasive issue of **bias**. LLMs are trained on massive datasets, often reflecting the biases present in the real world.  This means that models can perpetuate and even amplify harmful stereotypes related to gender, race, religion, and other sensitive attributes. For example, an LLM might generate text associating certain professions with specific genders or depicting ethnic groups in a negative light. Addressing this requires a multi-pronged approach.  Firstly, curating diverse and representative training data is crucial.  This involves actively seeking out and incorporating sources that challenge existing biases and offer a broader perspective.  Secondly, implementing bias mitigation techniques during and after training is essential.  These techniques can range from algorithmic adjustments that penalize biased outputs to human-in-the-loop systems that review and correct problematic generations.\n",
            "\n",
            "Closely related to bias is the problem of **fairness**.  Even if an LLM doesn't explicitly express biases, it might still produce outputs that disproportionately disadvantage certain groups. This can manifest in applications like hiring or loan applications where an LLM-powered system might unfairly discriminate against individuals based on protected characteristics.  Ensuring fairness necessitates rigorous testing and evaluation.  Developers must regularly assess the model's performance across different demographic groups, ensuring equitable outcomes.  This requires transparent metrics and a commitment to identifying and addressing any disparities.  Furthermore, incorporating fairness-aware algorithms that prioritize equitable treatment can proactively mitigate potential discriminatory outcomes.\n",
            "\n",
            "Finally, the issue of **privacy** poses a significant challenge.  LLMs are trained on vast amounts of data, often including sensitive personal information.  There's a risk that the model might inadvertently memorize and reproduce this information, leading to data leakage and violations of privacy.  This necessitates the implementation of robust privacy-preserving techniques.  Differential privacy, for instance, adds carefully calibrated noise to the training data, making it difficult to extract individual information while preserving the overall utility of the dataset.  Furthermore, strict data filtering and anonymization techniques are crucial to minimize the risk of sensitive information being included in the training data in the first place.\n",
            "\n",
            "In conclusion, the responsible development and deployment of LLMs require a concerted effort to address these ethical challenges.  Transparency in data sources and model training, rigorous fairness evaluations, and robust privacy safeguards are not optional extras; they are fundamental prerequisites for ensuring that these powerful technologies serve humanity ethically and beneficially.  Only through a commitment to responsible innovation can we harness the full potential of LLMs while mitigating their inherent risks.\n",
            "\n"
          ]
        }
      ]
    },
    {
      "cell_type": "code",
      "source": [],
      "metadata": {
        "id": "Gp2StDrkxCnu"
      },
      "execution_count": null,
      "outputs": []
    }
  ]
}